{
 "cells": [
  {
   "cell_type": "markdown",
   "metadata": {},
   "source": [
    "사용자 정의 예외 NegativeNumberError를 생성하고, 사용자로부터 숫자를 입력받아 음수일 경우 NegativeNumberError를 발생시키는 프로그램을 작성하세요. \n",
    "\n",
    "- 예외 처리 구문을 사용하여 음수 입력 시 \"양수를 입력해주세요.\"라는 메시지를 출력"
   ]
  },
  {
   "cell_type": "code",
   "execution_count": null,
   "metadata": {},
   "outputs": [],
   "source": [
    "class NegativeNumberError(Exception):\n",
    "    def __init__(self, message=\"양수를 입력해주세요.\"):\n",
    "        self.message = message\n",
    "        super().__init__(self.message)\n",
    "\n",
    "def get_positive_number():\n",
    "    try:\n",
    "        num = float(input(\"숫자를 입력하세요: \"))\n",
    "        if num < 0:\n",
    "            raise NegativeNumberError\n",
    "        print(f\"입력한 숫자: {num}\")\n",
    "    except NegativeNumberError as e:\n",
    "        print(e)\n",
    "    except ValueError:\n",
    "        print(\"유효한 숫자를 입력해주세요.\")\n",
    "\n",
    "get_positive_number()\n"
   ]
  }
 ],
 "metadata": {
  "language_info": {
   "name": "python"
  }
 },
 "nbformat": 4,
 "nbformat_minor": 2
}
