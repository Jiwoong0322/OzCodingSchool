{
 "cells": [
  {
   "cell_type": "markdown",
   "metadata": {},
   "source": [
    "animals라는 패키지를 만들고, 이 패키지 내에 mammals, birds라는 두 개의 서브 모듈을 생성하세요. \n",
    "\n",
    "- 각 모듈에는 최소한 한 개 이상의 동물에 관한 클래스를 정의하세요<br>\n",
    "  (예: mammals에는 Dog, birds에는 Eagle)\n",
    "- 이 패키지와 모듈을 사용하여 동물들의 정보를 출력하는 프로그램을 작성\n",
    "\n",
    "폴더 및 파일 구조\n",
    "```\n",
    "animals/(폴더)\n",
    "├── __init__.py\n",
    "├── mammals.py\n",
    "└── birds.py\n",
    "```\n"
   ]
  },
  {
   "cell_type": "code",
   "execution_count": null,
   "metadata": {},
   "outputs": [],
   "source": [
    "#__init__.py\n",
    "\n",
    "# animals 패키지 초기화 파일\n",
    "# 이 파일은 패키지가 폴더로 인식되게 해준다."
   ]
  },
  {
   "cell_type": "code",
   "execution_count": null,
   "metadata": {},
   "outputs": [],
   "source": [
    "# mammals.py\n",
    "\n",
    "class Dog:\n",
    "    def __init__(self, name, breed):\n",
    "        self.name = name\n",
    "        self.breed = breed\n",
    "\n",
    "    def speak(self):\n",
    "        return f\"{self.name} says Woof!\"\n",
    "\n",
    "class Cat:\n",
    "    def __init__(self, name, breed):\n",
    "        self.name = name\n",
    "        self.breed = breed\n",
    "\n",
    "    def speak(self):\n",
    "        return f\"{self.name} says Meow!\"\n"
   ]
  },
  {
   "cell_type": "code",
   "execution_count": null,
   "metadata": {},
   "outputs": [],
   "source": [
    "# birds.py\n",
    "\n",
    "class Eagle:\n",
    "    def __init__(self, name):\n",
    "        self.name = name\n",
    "\n",
    "    def speak(self):\n",
    "        return f\"{self.name} screeches!\"\n",
    "\n",
    "class Parrot:\n",
    "    def __init__(self, name):\n",
    "        self.name = name\n",
    "\n",
    "    def speak(self):\n",
    "        return f\"{self.name} says Hello!\"\n"
   ]
  },
  {
   "cell_type": "code",
   "execution_count": null,
   "metadata": {},
   "outputs": [],
   "source": [
    "# main.py\n",
    "\n",
    "from animals.mammals import Dog, Cat\n",
    "from animals.birds import Eagle, Parrot\n",
    "\n",
    "# Dog 클래스 사용\n",
    "dog = Dog(\"Buddy\", \"Golden Retriever\")\n",
    "print(f\"{dog.name} ({dog.breed}): {dog.speak()}\")\n",
    "\n",
    "# Cat 클래스 사용\n",
    "cat = Cat(\"Whiskers\", \"Siamese\")\n",
    "print(f\"{cat.name} ({cat.breed}): {cat.speak()}\")\n",
    "\n",
    "# Eagle 클래스 사용\n",
    "eagle = Eagle(\"Sky\")\n",
    "print(f\"{eagle.name}: {eagle.speak()}\")\n",
    "\n",
    "# Parrot 클래스 사용\n",
    "parrot = Parrot(\"Polly\")\n",
    "print(f\"{parrot.name}: {parrot.speak()}\")\n"
   ]
  },
  {
   "cell_type": "markdown",
   "metadata": {},
   "source": [
    "animals/\n",
    "├── __init__.py\n",
    "├── mammals.py\n",
    "└── birds.py\n",
    "main.py\n",
    "\n",
    "실행 방법\n",
    "1. 위의 폴더 구조를 따라 animals 폴더를 생성하고 각 파일을 작성한다.\n",
    "2. main.py에서 패키지 animals를 임포트하여 사용한다."
   ]
  }
 ],
 "metadata": {
  "language_info": {
   "name": "python"
  }
 },
 "nbformat": 4,
 "nbformat_minor": 2
}
