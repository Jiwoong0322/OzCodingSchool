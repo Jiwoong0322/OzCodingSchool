{
 "cells": [
  {
   "cell_type": "markdown",
   "metadata": {},
   "source": [
    "여러분이 자주 사용하는 수학적 연산<br>\n",
    "(예: 삼각형 넓이, 원의 넓이, 직육면체의 넓이)을 수행하는 함수들을 포함하는 mymath.py라는 이름의 모듈을 만드세요. \n",
    "\n",
    "이 모듈을 사용하여 작성된 함수들을 실제로 임포트하고 사용하는 간단한 프로그램을 작성하세요."
   ]
  },
  {
   "cell_type": "code",
   "execution_count": 1,
   "metadata": {},
   "outputs": [],
   "source": [
    "# mymath.py\n",
    "\n",
    "import math\n",
    "\n",
    "def triangle_area(base, height):\n",
    "    return 0.5 * base * height\n",
    "\n",
    "def circle_area(radius):\n",
    "    return math.pi * radius ** 2\n",
    "\n",
    "def box_surface_area(length, width, height):\n",
    "    return 2 * (length * width + width * height + height * length)\n"
   ]
  },
  {
   "cell_type": "code",
   "execution_count": 2,
   "metadata": {},
   "outputs": [
    {
     "ename": "ModuleNotFoundError",
     "evalue": "No module named 'mymath'",
     "output_type": "error",
     "traceback": [
      "\u001b[31m---------------------------------------------------------------------------\u001b[39m",
      "\u001b[31mModuleNotFoundError\u001b[39m                       Traceback (most recent call last)",
      "\u001b[36mCell\u001b[39m\u001b[36m \u001b[39m\u001b[32mIn[2]\u001b[39m\u001b[32m, line 3\u001b[39m\n\u001b[32m      1\u001b[39m \u001b[38;5;66;03m# main.py\u001b[39;00m\n\u001b[32m----> \u001b[39m\u001b[32m3\u001b[39m \u001b[38;5;28;01mimport\u001b[39;00m\u001b[38;5;250m \u001b[39m\u001b[34;01mmymath\u001b[39;00m\n\u001b[32m      5\u001b[39m \u001b[38;5;66;03m# 삼각형 넓이\u001b[39;00m\n\u001b[32m      6\u001b[39m \u001b[38;5;28mprint\u001b[39m(\u001b[33m\"\u001b[39m\u001b[33m삼각형 넓이:\u001b[39m\u001b[33m\"\u001b[39m, mymath.triangle_area(\u001b[32m10\u001b[39m, \u001b[32m5\u001b[39m))\n",
      "\u001b[31mModuleNotFoundError\u001b[39m: No module named 'mymath'"
     ]
    }
   ],
   "source": [
    "# main.py\n",
    "\n",
    "import mymath\n",
    "\n",
    "# 삼각형 넓이\n",
    "print(\"삼각형 넓이:\", mymath.triangle_area(10, 5))\n",
    "\n",
    "# 원의 넓이\n",
    "print(\"원의 넓이:\", mymath.circle_area(7))\n",
    "\n",
    "# 직육면체 겉넓이\n",
    "print(\"직육면체의 겉넓이:\", mymath.box_surface_area(2, 3, 4))\n"
   ]
  }
 ],
 "metadata": {
  "kernelspec": {
   "display_name": "Python 3",
   "language": "python",
   "name": "python3"
  },
  "language_info": {
   "codemirror_mode": {
    "name": "ipython",
    "version": 3
   },
   "file_extension": ".py",
   "mimetype": "text/x-python",
   "name": "python",
   "nbconvert_exporter": "python",
   "pygments_lexer": "ipython3",
   "version": "3.12.6"
  }
 },
 "nbformat": 4,
 "nbformat_minor": 2
}
